{
 "cells": [
  {
   "metadata": {},
   "cell_type": "markdown",
   "source": "# EDA for the imported data",
   "id": "298d7c971a080e3e"
  },
  {
   "metadata": {},
   "cell_type": "markdown",
   "source": "### Generic imports lines and util functions that do not directly correlate to the actual analysis",
   "id": "924700ed656c9886"
  },
  {
   "cell_type": "code",
   "id": "initial_id",
   "metadata": {
    "collapsed": true,
    "ExecuteTime": {
     "end_time": "2025-10-06T12:39:49.502978Z",
     "start_time": "2025-10-06T12:39:49.495966Z"
    }
   },
   "source": [
    "import pandas as pd\n",
    "import os\n",
    "\n",
    "from src.utils.config import load_config, ensure_dirs\n",
    "\n",
    "def get_path(p: str) -> str:\n",
    "    \"\"\"\n",
    "    Return the absolute path of a file in the project\n",
    "    :param p: file's path to get the path for\n",
    "    :return: the absolute path of the file\n",
    "    \"\"\"\n",
    "    current_dir = os.path.sep.join(os.getcwd().split(os.path.sep)[:-2])\n",
    "    return os.path.join(current_dir, p)\n",
    "\n",
    "cfg = load_config(get_path(\"config.yaml\"))\n"
   ],
   "outputs": [],
   "execution_count": 41
  },
  {
   "metadata": {},
   "cell_type": "markdown",
   "source": [
    "### Merging the imported files\n",
    "\n",
    "Merges the imported files in the interim directory and concat them into a single df for analysis."
   ],
   "id": "c2286a187303d3a3"
  },
  {
   "metadata": {
    "ExecuteTime": {
     "end_time": "2025-10-06T12:39:49.518747Z",
     "start_time": "2025-10-06T12:39:49.510511Z"
    }
   },
   "cell_type": "code",
   "source": [
    "interim_data_path = get_path(cfg[\"paths\"][\"interim_dir\"])\n",
    "\n",
    "dfs = []\n",
    "recorded_labels = set()\n",
    "for d in os.listdir(interim_data_path):\n",
    "    temp_df = pd.read_csv(os.path.join(interim_data_path, str(d)))\n",
    "    df_label = str(temp_df[\"label\"].iloc[0])\n",
    "    recorded_labels.add(df_label)\n",
    "    dfs += [temp_df]\n",
    "\n",
    "df = pd.concat(dfs, axis=0, ignore_index=True)"
   ],
   "id": "dcec427fa4eb038d",
   "outputs": [],
   "execution_count": 42
  },
  {
   "metadata": {
    "ExecuteTime": {
     "end_time": "2025-10-06T12:39:49.528239Z",
     "start_time": "2025-10-06T12:39:49.525220Z"
    }
   },
   "cell_type": "code",
   "source": "print(f\"Number of records: {len(df)} with {len(recorded_labels)} unique labels\")",
   "id": "74c3dcb05a89eb5e",
   "outputs": [
    {
     "name": "stdout",
     "output_type": "stream",
     "text": [
      "Number of records: 67 with 2 unique labels\n"
     ]
    }
   ],
   "execution_count": 43
  },
  {
   "metadata": {
    "ExecuteTime": {
     "end_time": "2025-10-06T12:39:49.534663Z",
     "start_time": "2025-10-06T12:39:49.532471Z"
    }
   },
   "cell_type": "code",
   "source": [
    "# Remove bootstrap entries\n",
    "df = df[df[\"context\"] != \"bootstrap\"]"
   ],
   "id": "c019dfd81aa2e594",
   "outputs": [],
   "execution_count": 44
  },
  {
   "metadata": {
    "ExecuteTime": {
     "end_time": "2025-10-06T12:39:49.541056Z",
     "start_time": "2025-10-06T12:39:49.538772Z"
    }
   },
   "cell_type": "code",
   "source": "df.shape",
   "id": "f01bf57de8cb4758",
   "outputs": [
    {
     "data": {
      "text/plain": [
       "(64, 14)"
      ]
     },
     "execution_count": 45,
     "metadata": {},
     "output_type": "execute_result"
    }
   ],
   "execution_count": 45
  },
  {
   "metadata": {
    "ExecuteTime": {
     "end_time": "2025-10-06T12:39:49.550727Z",
     "start_time": "2025-10-06T12:39:49.544833Z"
    }
   },
   "cell_type": "code",
   "source": "df.head()",
   "id": "c5bfb708b90ae037",
   "outputs": [
    {
     "data": {
      "text/plain": [
       "                             session_id     avg_dx  avg_cpm  shortcut_count  \\\n",
       "1  e15995e2-f720-448b-a462-29790b6026f9  11.663448     0.00             1.0   \n",
       "2  22bb78a9-7453-4eee-a7e0-e6ea553471cd  11.663448     0.00             2.0   \n",
       "3  6769fb36-fb77-43e8-8242-aa92fd73b9bc   6.750049     0.00             2.0   \n",
       "4  297de8a4-9b17-409b-931d-f3ff0c543672        NaN     0.00             1.0   \n",
       "5  f939b55b-a9d8-4f71-b7e0-4f56ee27d5e2   2.950094   460.62             2.0   \n",
       "\n",
       "   median_cpm  avg_hold_time  context     avg_dy  avg_scroll_distance  \\\n",
       "1        0.00       0.220285  capture  16.709401            27.666667   \n",
       "2        0.00       0.202468  capture  16.709401            27.666667   \n",
       "3        0.00       0.172079  capture  11.176953            27.666667   \n",
       "4        0.00       0.143253  capture        NaN             0.000000   \n",
       "5      485.54       0.082152  capture   4.759445            24.454545   \n",
       "\n",
       "   keystroke_count   duration  avg_click_interval  clicks_per_minute  label  \n",
       "1              0.0   5.258685            0.583301         137.150555  user1  \n",
       "2              0.0   0.439291            0.583301         137.150555  user1  \n",
       "3              1.0   2.811189            1.108256          67.673896  user1  \n",
       "4              0.0   0.649208            0.000000           0.000000  user1  \n",
       "5            147.0  84.336796           13.013376           6.147521  user1  "
      ],
      "text/html": [
       "<div>\n",
       "<style scoped>\n",
       "    .dataframe tbody tr th:only-of-type {\n",
       "        vertical-align: middle;\n",
       "    }\n",
       "\n",
       "    .dataframe tbody tr th {\n",
       "        vertical-align: top;\n",
       "    }\n",
       "\n",
       "    .dataframe thead th {\n",
       "        text-align: right;\n",
       "    }\n",
       "</style>\n",
       "<table border=\"1\" class=\"dataframe\">\n",
       "  <thead>\n",
       "    <tr style=\"text-align: right;\">\n",
       "      <th></th>\n",
       "      <th>session_id</th>\n",
       "      <th>avg_dx</th>\n",
       "      <th>avg_cpm</th>\n",
       "      <th>shortcut_count</th>\n",
       "      <th>median_cpm</th>\n",
       "      <th>avg_hold_time</th>\n",
       "      <th>context</th>\n",
       "      <th>avg_dy</th>\n",
       "      <th>avg_scroll_distance</th>\n",
       "      <th>keystroke_count</th>\n",
       "      <th>duration</th>\n",
       "      <th>avg_click_interval</th>\n",
       "      <th>clicks_per_minute</th>\n",
       "      <th>label</th>\n",
       "    </tr>\n",
       "  </thead>\n",
       "  <tbody>\n",
       "    <tr>\n",
       "      <th>1</th>\n",
       "      <td>e15995e2-f720-448b-a462-29790b6026f9</td>\n",
       "      <td>11.663448</td>\n",
       "      <td>0.00</td>\n",
       "      <td>1.0</td>\n",
       "      <td>0.00</td>\n",
       "      <td>0.220285</td>\n",
       "      <td>capture</td>\n",
       "      <td>16.709401</td>\n",
       "      <td>27.666667</td>\n",
       "      <td>0.0</td>\n",
       "      <td>5.258685</td>\n",
       "      <td>0.583301</td>\n",
       "      <td>137.150555</td>\n",
       "      <td>user1</td>\n",
       "    </tr>\n",
       "    <tr>\n",
       "      <th>2</th>\n",
       "      <td>22bb78a9-7453-4eee-a7e0-e6ea553471cd</td>\n",
       "      <td>11.663448</td>\n",
       "      <td>0.00</td>\n",
       "      <td>2.0</td>\n",
       "      <td>0.00</td>\n",
       "      <td>0.202468</td>\n",
       "      <td>capture</td>\n",
       "      <td>16.709401</td>\n",
       "      <td>27.666667</td>\n",
       "      <td>0.0</td>\n",
       "      <td>0.439291</td>\n",
       "      <td>0.583301</td>\n",
       "      <td>137.150555</td>\n",
       "      <td>user1</td>\n",
       "    </tr>\n",
       "    <tr>\n",
       "      <th>3</th>\n",
       "      <td>6769fb36-fb77-43e8-8242-aa92fd73b9bc</td>\n",
       "      <td>6.750049</td>\n",
       "      <td>0.00</td>\n",
       "      <td>2.0</td>\n",
       "      <td>0.00</td>\n",
       "      <td>0.172079</td>\n",
       "      <td>capture</td>\n",
       "      <td>11.176953</td>\n",
       "      <td>27.666667</td>\n",
       "      <td>1.0</td>\n",
       "      <td>2.811189</td>\n",
       "      <td>1.108256</td>\n",
       "      <td>67.673896</td>\n",
       "      <td>user1</td>\n",
       "    </tr>\n",
       "    <tr>\n",
       "      <th>4</th>\n",
       "      <td>297de8a4-9b17-409b-931d-f3ff0c543672</td>\n",
       "      <td>NaN</td>\n",
       "      <td>0.00</td>\n",
       "      <td>1.0</td>\n",
       "      <td>0.00</td>\n",
       "      <td>0.143253</td>\n",
       "      <td>capture</td>\n",
       "      <td>NaN</td>\n",
       "      <td>0.000000</td>\n",
       "      <td>0.0</td>\n",
       "      <td>0.649208</td>\n",
       "      <td>0.000000</td>\n",
       "      <td>0.000000</td>\n",
       "      <td>user1</td>\n",
       "    </tr>\n",
       "    <tr>\n",
       "      <th>5</th>\n",
       "      <td>f939b55b-a9d8-4f71-b7e0-4f56ee27d5e2</td>\n",
       "      <td>2.950094</td>\n",
       "      <td>460.62</td>\n",
       "      <td>2.0</td>\n",
       "      <td>485.54</td>\n",
       "      <td>0.082152</td>\n",
       "      <td>capture</td>\n",
       "      <td>4.759445</td>\n",
       "      <td>24.454545</td>\n",
       "      <td>147.0</td>\n",
       "      <td>84.336796</td>\n",
       "      <td>13.013376</td>\n",
       "      <td>6.147521</td>\n",
       "      <td>user1</td>\n",
       "    </tr>\n",
       "  </tbody>\n",
       "</table>\n",
       "</div>"
      ]
     },
     "execution_count": 46,
     "metadata": {},
     "output_type": "execute_result"
    }
   ],
   "execution_count": 46
  },
  {
   "metadata": {
    "ExecuteTime": {
     "end_time": "2025-10-06T12:39:49.558252Z",
     "start_time": "2025-10-06T12:39:49.554411Z"
    }
   },
   "cell_type": "code",
   "source": "df.info()",
   "id": "785010d12020c2ac",
   "outputs": [
    {
     "name": "stdout",
     "output_type": "stream",
     "text": [
      "<class 'pandas.core.frame.DataFrame'>\n",
      "Index: 64 entries, 1 to 66\n",
      "Data columns (total 14 columns):\n",
      " #   Column               Non-Null Count  Dtype  \n",
      "---  ------               --------------  -----  \n",
      " 0   session_id           64 non-null     object \n",
      " 1   avg_dx               61 non-null     float64\n",
      " 2   avg_cpm              64 non-null     float64\n",
      " 3   shortcut_count       64 non-null     float64\n",
      " 4   median_cpm           64 non-null     float64\n",
      " 5   avg_hold_time        64 non-null     float64\n",
      " 6   context              64 non-null     object \n",
      " 7   avg_dy               61 non-null     float64\n",
      " 8   avg_scroll_distance  64 non-null     float64\n",
      " 9   keystroke_count      64 non-null     float64\n",
      " 10  duration             64 non-null     float64\n",
      " 11  avg_click_interval   64 non-null     float64\n",
      " 12  clicks_per_minute    64 non-null     float64\n",
      " 13  label                64 non-null     object \n",
      "dtypes: float64(11), object(3)\n",
      "memory usage: 7.5+ KB\n"
     ]
    }
   ],
   "execution_count": 47
  }
 ],
 "metadata": {
  "kernelspec": {
   "display_name": "Python 3",
   "language": "python",
   "name": "python3"
  },
  "language_info": {
   "codemirror_mode": {
    "name": "ipython",
    "version": 2
   },
   "file_extension": ".py",
   "mimetype": "text/x-python",
   "name": "python",
   "nbconvert_exporter": "python",
   "pygments_lexer": "ipython2",
   "version": "2.7.6"
  }
 },
 "nbformat": 4,
 "nbformat_minor": 5
}
